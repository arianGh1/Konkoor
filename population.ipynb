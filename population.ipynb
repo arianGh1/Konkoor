{
 "cells": [
  {
   "cell_type": "code",
   "execution_count": 75,
   "id": "deef8217-e0e7-4e57-9497-f28ee1052d9c",
   "metadata": {},
   "outputs": [],
   "source": [
    "import time\n",
    "import requests\n",
    "from selenium import webdriver\n",
    "from bs4 import BeautifulSoup\n",
    "import csv\n",
    "\n",
    "import numpy as np\n",
    "import pandas as pd\n",
    "from arabic_reshaper import reshape\n",
    "import progressbar\n",
    "from bidi.algorithm import get_display\n",
    "from selenium.webdriver.chrome.options import Options"
   ]
  },
  {
   "cell_type": "code",
   "execution_count": 76,
   "id": "ff853388-a0fb-4305-818c-f98a29785066",
   "metadata": {},
   "outputs": [],
   "source": [
    "base = \"https://fa.wikipedia.org/wiki/%D9%81%D9%87%D8%B1%D8%B3%D8%AA_%D8%A7%D8%B3%D8%AA%D8%A7%D9%86%E2%80%8C%D9%87%D8%A7%DB%8C_%D8%A7%DB%8C%D8%B1%D8%A7%D9%86\"\n",
    "options = Options()\n",
    "options.add_argument(\"--disable-infobars\")\n",
    "options.add_argument(\"--disable-extensions\")\n",
    "options.add_argument(\"start-maximized\")\n",
    "options.add_experimental_option(\"prefs\", {\"profile.default_content_setting_values.notifications\": 2})\n",
    "driver = webdriver.Chrome(options =options)\n",
    "driver.get(base)\n",
    "html_text = driver.page_source\n",
    "soup = BeautifulSoup(html_text,'lxml')"
   ]
  },
  {
   "cell_type": "code",
   "execution_count": 81,
   "id": "49af415c-d583-44c5-a9cf-32b7b5d37505",
   "metadata": {},
   "outputs": [],
   "source": [
    "tests = soup.find(\"tbody\")"
   ]
  },
  {
   "cell_type": "code",
   "execution_count": 82,
   "id": "bdfdeb5f-ba14-4cfc-a2d8-3958da52a511",
   "metadata": {},
   "outputs": [],
   "source": [
    "rows = soup.find_all(\"tr\")"
   ]
  },
  {
   "cell_type": "code",
   "execution_count": 79,
   "id": "887f7738-22e6-402e-a9ea-e224e1daa2dd",
   "metadata": {},
   "outputs": [
    {
     "data": {
      "text/plain": [
       "\"\\nimport matplotlib.pyplot as plt\\nimport numpy as np\\nimport pandas as pd\\n\\n# make sample data\\nnp.random.seed(0)\\ndf = pd.DataFrame(np.random.rand(41,5))\\ndf.index = [f'Row {i}' for i in df.index]\\n\\nfig, ax = plt.subplots(figsize=(20,20))\\nax.set_axis_off()\\n\\n# plot data as table\\nplt.matplotlib.table.table(ax, df.applymap('{:.1f}'.format).values.tolist(), rowLabels=df.index, bbox=[0,0,1,1])\\n\\n# plot curve over table\\nymax = df.max().max()\\nax.set_ylim(0, ymax * len(df))\\nax.plot((df.to_numpy() + ((len(df) - 1 - df.reset_index(drop=True).index.to_numpy()) * ymax)[:, None]).T, color='C0')\\nplt.show()\\n\""
      ]
     },
     "execution_count": 79,
     "metadata": {},
     "output_type": "execute_result"
    }
   ],
   "source": [
    "'''\n",
    "import matplotlib.pyplot as plt\n",
    "import numpy as np\n",
    "import pandas as pd\n",
    "\n",
    "# make sample data\n",
    "np.random.seed(0)\n",
    "df = pd.DataFrame(np.random.rand(41,5))\n",
    "df.index = [f'Row {i}' for i in df.index]\n",
    "\n",
    "fig, ax = plt.subplots(figsize=(20,20))\n",
    "ax.set_axis_off()\n",
    "\n",
    "# plot data as table\n",
    "plt.matplotlib.table.table(ax, df.applymap('{:.1f}'.format).values.tolist(), rowLabels=df.index, bbox=[0,0,1,1])\n",
    "\n",
    "# plot curve over table\n",
    "ymax = df.max().max()\n",
    "ax.set_ylim(0, ymax * len(df))\n",
    "ax.plot((df.to_numpy() + ((len(df) - 1 - df.reset_index(drop=True).index.to_numpy()) * ymax)[:, None]).T, color='C0')\n",
    "plt.show()\n",
    "'''\n"
   ]
  },
  {
   "cell_type": "code",
   "execution_count": 85,
   "id": "54fa0b1c-87e9-414d-bcbe-a17bacd4e6ad",
   "metadata": {},
   "outputs": [],
   "source": [
    "dic = {}\n",
    "for row in rows:\n",
    "    columns = row.find_all(\"td\")\n",
    "    for index,col in enumerate(columns):\n",
    "        if index==0:\n",
    "            name = col.text\n",
    "        elif index==5:\n",
    "            dic[name] = col.text\n",
    "            break\n",
    "for key in dic.copy().keys():\n",
    "    if \"[\"in key:\n",
    "        new = key.replace(key[-1],\"\")\n",
    "        new = new.replace(key[-2],\"\")\n",
    "        new = new.replace(key[-3],\"\")\n",
    "        dic[new] = dic.pop(key)    "
   ]
  },
  {
   "cell_type": "code",
   "execution_count": 86,
   "id": "434a311c-75c1-4e12-9d7a-31e2d4b4056a",
   "metadata": {},
   "outputs": [
    {
     "data": {
      "text/plain": [
       "{'آذربایجان شرقی': '۳٬۹۰۹٬۶۵۲',\n",
       " 'آذربایجان غربی': '۳٬۲۶۵٬۲۱۹',\n",
       " 'اردبیل': '۱٬۲۷۰٬۴۲۰',\n",
       " 'اصفهان': '۵٬۱۲۰٬۸۵۰',\n",
       " 'ایلام': '۵۸۰٬۱۵۸',\n",
       " 'بوشهر': '۱٬۱۶۳٬۴۰۰',\n",
       " 'تهران': '۱۳٬۲۶۷٬۶۳۷',\n",
       " 'چهارمحال و بختیاری': '۹۴۷٬۷۶۳',\n",
       " 'خراسان رضوی': '۶٬۴۳۴٬۵۰۱',\n",
       " 'خراسان شمالی': '۸۶۳٬۰۹۲',\n",
       " 'خوزستان': '۵٬۰۰۱٬۳۴۹',\n",
       " 'زنجان': '۱٬۰۵۷٬۴۶۱',\n",
       " 'سمنان': '۷۰۲٬۳۶۰',\n",
       " 'سیستان و بلوچستان': '۲٬۷۷۵٬۰۱۴',\n",
       " 'فارس': '۴٬۸۵۱٬۲۷۴',\n",
       " 'قزوین': '۱٬۲۷۳٬۷۶۱',\n",
       " 'قم': '۱٬۲۹۲٬۲۸۳',\n",
       " 'کردستان': '۱٬۶۰۳٬۰۱۱',\n",
       " 'کرمان': '۳٬۱۶۴٬۷۱۸',\n",
       " 'کرمانشاه': '۱٬۹۵۲٬۴۳۴',\n",
       " 'کهگیلویه و بویراحمد': '۷۱۳٬۰۵۲',\n",
       " 'گلستان': '۱٬۸۶۸٬۸۱۹',\n",
       " 'گیلان': '۲٬۵۳۰٬۶۹۶',\n",
       " 'لرستان': '۱٬۷۶۰٬۶۴۹',\n",
       " 'مازندران': '۳٬۲۸۳٬۵۸۲',\n",
       " 'مرکزی': '۱٬۴۲۹٬۴۷۵',\n",
       " 'هرمزگان': '۱٬۷۷۶٬۴۱۵',\n",
       " 'همدان': '۱٬۷۳۸٬۲۳۴',\n",
       " 'البرز': '۲٬۷۱۲٬۴۰۰',\n",
       " 'خراسان جنوبی': '۷۶۸٬۸۹۸',\n",
       " 'یزد': '۱٬۱۳۸٬۵۳۳'}"
      ]
     },
     "execution_count": 86,
     "metadata": {},
     "output_type": "execute_result"
    }
   ],
   "source": [
    "dic"
   ]
  },
  {
   "cell_type": "code",
   "execution_count": 95,
   "id": "f32d7ab2-6027-488c-a2eb-2cf3ebf8d076",
   "metadata": {},
   "outputs": [],
   "source": [
    "for key in dic.keys():\n",
    "    dic[key] = dic[key].replace(\"٬\",\"\")\n",
    "    dic[key] = int(dic[key])"
   ]
  },
  {
   "cell_type": "code",
   "execution_count": 96,
   "id": "b19bda49-eb6f-4734-830d-2a40af5a55f4",
   "metadata": {},
   "outputs": [
    {
     "data": {
      "text/plain": [
       "{'آذربایجان شرقی': 3909652,\n",
       " 'آذربایجان غربی': 3265219,\n",
       " 'اردبیل': 1270420,\n",
       " 'اصفهان': 5120850,\n",
       " 'ایلام': 580158,\n",
       " 'بوشهر': 1163400,\n",
       " 'تهران': 13267637,\n",
       " 'چهارمحال و بختیاری': 947763,\n",
       " 'خراسان رضوی': 6434501,\n",
       " 'خراسان شمالی': 863092,\n",
       " 'خوزستان': 5001349,\n",
       " 'زنجان': 1057461,\n",
       " 'سمنان': 702360,\n",
       " 'سیستان و بلوچستان': 2775014,\n",
       " 'فارس': 4851274,\n",
       " 'قزوین': 1273761,\n",
       " 'قم': 1292283,\n",
       " 'کردستان': 1603011,\n",
       " 'کرمان': 3164718,\n",
       " 'کرمانشاه': 1952434,\n",
       " 'کهگیلویه و بویراحمد': 713052,\n",
       " 'گلستان': 1868819,\n",
       " 'گیلان': 2530696,\n",
       " 'لرستان': 1760649,\n",
       " 'مازندران': 3283582,\n",
       " 'مرکزی': 1429475,\n",
       " 'هرمزگان': 1776415,\n",
       " 'همدان': 1738234,\n",
       " 'البرز': 2712400,\n",
       " 'خراسان جنوبی': 768898,\n",
       " 'یزد': 1138533}"
      ]
     },
     "execution_count": 96,
     "metadata": {},
     "output_type": "execute_result"
    }
   ],
   "source": [
    "dic"
   ]
  },
  {
   "cell_type": "code",
   "execution_count": null,
   "id": "568b65bd-9702-4c94-ae95-36dadff0a3e6",
   "metadata": {},
   "outputs": [],
   "source": []
  },
  {
   "cell_type": "code",
   "execution_count": 97,
   "id": "6b9919b3-bc37-4677-8269-03c572d06d3d",
   "metadata": {},
   "outputs": [],
   "source": [
    "import pickle\n",
    "with open(\"dic_population\",\"wb\") as f:\n",
    "    pickle.dump(dic,f)"
   ]
  },
  {
   "cell_type": "code",
   "execution_count": null,
   "id": "6e1bb761-dab9-463d-8447-53a5b0f5cc82",
   "metadata": {},
   "outputs": [],
   "source": []
  }
 ],
 "metadata": {
  "kernelspec": {
   "display_name": "Python 3 (ipykernel)",
   "language": "python",
   "name": "python3"
  },
  "language_info": {
   "codemirror_mode": {
    "name": "ipython",
    "version": 3
   },
   "file_extension": ".py",
   "mimetype": "text/x-python",
   "name": "python",
   "nbconvert_exporter": "python",
   "pygments_lexer": "ipython3",
   "version": "3.9.5"
  }
 },
 "nbformat": 4,
 "nbformat_minor": 5
}
