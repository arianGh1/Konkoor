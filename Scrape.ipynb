{
 "cells": [
  {
   "cell_type": "code",
   "execution_count": 5,
   "id": "2a71fb59-aa4d-4e89-ae46-83c62e423599",
   "metadata": {},
   "outputs": [],
   "source": [
    "import time\n",
    "import requests\n",
    "from selenium import webdriver\n",
    "from bs4 import BeautifulSoup\n",
    "import csv\n",
    "import pickle\n",
    "import numpy as np\n",
    "import pandas as pd\n",
    "from arabic_reshaper import reshape\n",
    "import progressbar\n",
    "from bidi.algorithm import get_display\n",
    "from selenium.webdriver.chrome.options import Options"
   ]
  },
  {
   "cell_type": "code",
   "execution_count": 6,
   "id": "a4bdcfc3-39ec-48a2-a822-cfb81732d1e6",
   "metadata": {},
   "outputs": [
    {
     "name": "stderr",
     "output_type": "stream",
     "text": [
      "C:\\Users\\Arian_Gh\\AppData\\Local\\Temp\\ipykernel_2456\\3278886753.py:34: DeprecationWarning: find_element_by_* commands are deprecated. Please use find_element() instead\n",
      "  button = driver.find_element_by_xpath(\"//*[@id='btnMore']\")\n"
     ]
    }
   ],
   "source": [
    "\n",
    "base = \"https://www.kanoon.ir/Public/SuperiorsGroupBased?list=t&groupcode=3\"\n",
    "options = Options()\n",
    "options.add_argument(\"--disable-infobars\")\n",
    "options.add_argument(\"--disable-extensions\")\n",
    "options.add_argument(\"start-maximized\")\n",
    "options.add_experimental_option(\"prefs\", {\"profile.default_content_setting_values.notifications\": 2})\n",
    "driver = webdriver.Chrome(options =options)\n",
    "gc=1\n",
    "while gc<=9:\n",
    "    i=0\n",
    "    all_details = {}\n",
    "    year = 89\n",
    "    while year>=80:\n",
    "        year_str = \"&year=\"\n",
    "        gc_str = \"&gc=\"\n",
    "        url = base + year_str +str(year)+gc_str+str(gc)\n",
    "        driver.get(url)\n",
    "        time.sleep(1)\n",
    "        \n",
    "        while True:\n",
    "            html_text = driver.page_source\n",
    "            soup = BeautifulSoup(html_text,'lxml')\n",
    "            driver.execute_script(\"window.scrollTo(0, document.body.scrollHeight);\")\n",
    "            tests = soup.find_all(\"tr\")\n",
    "            \n",
    "            for test in tests:\n",
    "                test = test.find_all(\"td\")\n",
    "                all_details[i] = {\"نام و نام خانوادگی\":None,\"شهر\":None,\"رتبه کشوری\":None,\"رتبه در منطقه\":None,\"منطقه\":None,\"سابقه کانونی\":None,\"میانگین تراز کانون\":None,\"تعداد آزمون\":None,\"رشته قبولی\":None,\"دانشگاه قبولی\":None,\"gc\":gc,\"year\":year}\n",
    "\n",
    "                for key,value in zip(all_details[i].keys(),test):\n",
    "                    all_details[i][key] = value.text.strip()\n",
    "                i+=1\n",
    "                \n",
    "            button = driver.find_element_by_xpath(\"//*[@id='btnMore']\")\n",
    "            \n",
    "            if button.text == \"ادامه اسامی\":\n",
    "                driver.execute_script(\"arguments[0].click();\", button)\n",
    "            else:\n",
    "                break\n",
    "\n",
    "            time.sleep(2)\n",
    "        year-=1\n",
    "    path = \"dic_gc\"+str(gc)\n",
    "    with open(path,\"wb\") as f:\n",
    "        pickle.dump(all_details,f)\n",
    "    gc+=2"
   ]
  },
  {
   "cell_type": "code",
   "execution_count": null,
   "id": "9859cfbc-5170-46b0-b5fc-d9d805c0edbc",
   "metadata": {},
   "outputs": [],
   "source": []
  }
 ],
 "metadata": {
  "kernelspec": {
   "display_name": "Python 3 (ipykernel)",
   "language": "python",
   "name": "python3"
  },
  "language_info": {
   "codemirror_mode": {
    "name": "ipython",
    "version": 3
   },
   "file_extension": ".py",
   "mimetype": "text/x-python",
   "name": "python",
   "nbconvert_exporter": "python",
   "pygments_lexer": "ipython3",
   "version": "3.9.5"
  }
 },
 "nbformat": 4,
 "nbformat_minor": 5
}
