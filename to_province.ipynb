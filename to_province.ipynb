{
 "cells": [
  {
   "cell_type": "code",
   "execution_count": 5,
   "id": "1f3653f7-afc3-4a2a-954e-8dd89dbab511",
   "metadata": {},
   "outputs": [],
   "source": [
    "import pandas as pd"
   ]
  },
  {
   "cell_type": "code",
   "execution_count": 6,
   "id": "74c52bc0-38c6-4eab-960a-14ba80263e45",
   "metadata": {},
   "outputs": [],
   "source": [
    "import time\n",
    "import requests\n",
    "from selenium import webdriver\n",
    "from bs4 import BeautifulSoup\n",
    "from urllib.parse import urljoin\n",
    "import csv\n",
    "\n",
    "import numpy as np\n",
    "import pandas as pd\n",
    "import pickle\n",
    "\n",
    "from unidecode import unidecode\n",
    "from arabic_reshaper import reshape\n",
    "import progressbar\n",
    "from bidi.algorithm import get_display\n",
    "from multiprocessing import Process\n",
    "from multiprocessing import Pool\n",
    "from selenium.webdriver.chrome.options import Options"
   ]
  },
  {
   "cell_type": "code",
   "execution_count": 8,
   "id": "3b90ced1-4e82-48f8-ae14-f32a79d27a26",
   "metadata": {},
   "outputs": [],
   "source": [
    "base = \"https://fa.wikipedia.org/wiki/%D8%B4%D9%87%D8%B1%D8%B3%D8%AA%D8%A7%D9%86%E2%80%8C%D9%87%D8%A7%DB%8C_%D8%A7%DB%8C%D8%B1%D8%A7%D9%86\"\n",
    "options = Options()\n",
    "options.add_argument(\"--disable-infobars\")\n",
    "options.add_argument(\"--disable-extensions\")\n",
    "options.add_argument(\"start-maximized\")\n",
    "options.add_experimental_option(\"prefs\", {\"profile.default_content_setting_values.notifications\": 2})\n",
    "driver = webdriver.Chrome(options =options)\n",
    "driver.get(base)\n",
    "html_text = driver.page_source\n",
    "soup = BeautifulSoup(html_text,'lxml')"
   ]
  },
  {
   "cell_type": "code",
   "execution_count": 11,
   "id": "7cae681a-73a4-4b89-849e-7e3b442c09f7",
   "metadata": {},
   "outputs": [],
   "source": [
    "tests = soup.find_all(\"tr\")"
   ]
  },
  {
   "cell_type": "code",
   "execution_count": 78,
   "id": "37b72412-1d1a-4d91-ba1a-f28abb6bd5ed",
   "metadata": {
    "tags": []
   },
   "outputs": [],
   "source": [
    "cities = []\n",
    "provs = []\n",
    "#text.replace(\"\\u200c\",\" \").strip())\n",
    "for test in tests:\n",
    "    if test.find(\"td\")!= None: \n",
    "        for index,tes in enumerate(test.find_all(\"td\")):\n",
    "            if index==0 and tes!=None:\n",
    "                cities.append(tes.text.replace(\"\\u200c\",\" \").strip())\n",
    "            elif index==1 and tes!=None:\n",
    "                provs.append(tes.text.replace(\"\\u200c\",\" \").strip())\n",
    "            else:\n",
    "                break\n",
    "            \n",
    "provs = provs[0:provs.index(\"ویکی سفر یک راهنمای سفر برای \\nشهرستان های ایران دارد.\")]\n",
    "cities = cities[0:cities.index(\"آذربایجان شرقی\\nآذربایجان غربی\\nاردبیل\\nاصفهان\\nالبرز\\nایلام\\nبوشهر\\nتهران\\nچهارمحال و بختیاری\\nخراسان جنوبی\\nخراسان رضوی\\nخراسان شمالی\\nخوزستان\\nزنجان\\nسمنان\\nسیستان و بلوچستان\\nفارس\\nقزوین\\nقم\\nکردستان\\nکرمان\\nکرمانشاه\\nکهگیلویه و بویراحمد\\nگلستان\\nگیلان\\nلرستان\\nمازندران\\nمرکزی\\nهرمزگان\\nهمدان\\nیزد\")]\n",
    "cities.remove(\"\")"
   ]
  },
  {
   "cell_type": "code",
   "execution_count": 82,
   "id": "5fd4cf16-4084-4641-bb07-b5f4e706f4ba",
   "metadata": {},
   "outputs": [],
   "source": [
    "dic = {}\n",
    "for key,value in zip(cities,provs):\n",
    "    dic[key] = value"
   ]
  },
  {
   "cell_type": "code",
   "execution_count": 84,
   "id": "6db7d535-570a-4028-9a7b-c4d9e119491a",
   "metadata": {},
   "outputs": [],
   "source": [
    "import pickle\n",
    "with open(\"dic_toprov\",\"wb\") as f:\n",
    "    pickle.dump(dic,f)"
   ]
  },
  {
   "cell_type": "code",
   "execution_count": null,
   "id": "07a8cbf1-fd52-4531-b927-be2c52d4bb66",
   "metadata": {},
   "outputs": [],
   "source": []
  }
 ],
 "metadata": {
  "kernelspec": {
   "display_name": "Python 3 (ipykernel)",
   "language": "python",
   "name": "python3"
  },
  "language_info": {
   "codemirror_mode": {
    "name": "ipython",
    "version": 3
   },
   "file_extension": ".py",
   "mimetype": "text/x-python",
   "name": "python",
   "nbconvert_exporter": "python",
   "pygments_lexer": "ipython3",
   "version": "3.9.5"
  }
 },
 "nbformat": 4,
 "nbformat_minor": 5
}
